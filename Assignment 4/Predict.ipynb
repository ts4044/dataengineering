{
 "cells": [
  {
   "cell_type": "code",
   "execution_count": 1,
   "id": "b5523995-7246-4d70-a69a-1859e5c58292",
   "metadata": {
    "id": "f38b044e"
   },
   "outputs": [],
   "source": [
    "# Import required libraries\n",
    "import csv\n",
    "import sqlite3\n",
    "\n",
    "import pandas as pd\n",
    "from pycaret.regression import *"
   ]
  },
  {
   "cell_type": "code",
   "execution_count": 2,
   "id": "15ab6bd8-850d-4eca-9b41-11a48ae8d4d8",
   "metadata": {},
   "outputs": [],
   "source": [
    "\"\"\"\n",
    "Functions for predictions\n",
    "\"\"\"\n",
    "\n",
    "\n",
    "def get_data_from_db(curr):\n",
    "    conn = sqlite3.connect(\n",
    "        \"predict.db\", isolation_level=None, detect_types=sqlite3.PARSE_COLNAMES\n",
    "    )\n",
    "\n",
    "    sql = \"SELECT * FROM \" + curr + \"_agg\"\n",
    "    db_df = pd.read_sql_query(sql, conn)\n",
    "    db_df.rename(columns={\"return_val\": \"actual\"}, inplace=True)\n",
    "    return db_df\n",
    "\n",
    "\n",
    "def load_saved_models(currency_pairs):\n",
    "    models = {}\n",
    "    for currency in currency_pairs:\n",
    "        models[currency] = load_model(\"./models/{}\".format(currency))\n",
    "    return models\n",
    "\n",
    "\n",
    "def load_divider_values(currency_pairs):\n",
    "    cutoff_values = {}\n",
    "    for currency in currency_pairs:\n",
    "        cutoff_values[currency] = {}\n",
    "\n",
    "    with open(\"./regression_code/divider_list.csv\", \"r\") as csvfile:\n",
    "        csvreader = csv.reader(csvfile)\n",
    "        fields = next(csvreader)\n",
    "\n",
    "        for row in csvreader:\n",
    "            try:\n",
    "                cutoff_values[row[0]][row[1]] = [float(row[2]), float(row[3])]\n",
    "            except:\n",
    "                pass\n",
    "\n",
    "    return cutoff_values\n",
    "\n",
    "\n",
    "def substitute_cutoffs(df, cutoff_values, column):\n",
    "    for index, row in df.iterrows():\n",
    "        if row[column] < cutoff_values[column][0]:\n",
    "            df.at[index, column] = 1\n",
    "        elif cutoff_values[column][0] < row[column] < cutoff_values[column][1]:\n",
    "            df.at[index, column] = 2\n",
    "        else:\n",
    "            df.at[index, column] = 3\n",
    "    return df"
   ]
  },
  {
   "cell_type": "code",
   "execution_count": 22,
   "id": "f13b3742-7332-4389-954f-8144f3586fdc",
   "metadata": {},
   "outputs": [],
   "source": [
    "def main(currency_pairs):\n",
    "    # Load the saved models into a dictionary\n",
    "    saved_models = load_saved_models(currency_pairs)\n",
    "\n",
    "    # Load the cutoff values into a dictionary\n",
    "    cutoff_divider_values = load_divider_values(currency_pairs)\n",
    "\n",
    "    for currency in currency_pairs:\n",
    "        df = get_data_from_db(currency)\n",
    "        df = substitute_cutoffs(df, cutoff_divider_values[currency], \"vol\")\n",
    "        df = substitute_cutoffs(df, cutoff_divider_values[currency], \"fd\")\n",
    "\n",
    "        prediction = predict_model(saved_models[currency], df)\n",
    "        prediction.Label /= 10000\n",
    "        prediction.rename(columns={\"Label\": \"predicted\"}, inplace=True)\n",
    "\n",
    "        prediction[\"error\"] = (\n",
    "            prediction[\"predicted\"] - prediction[\"actual\"]\n",
    "        ) * 100 / prediction[\"actual\"]\n",
    "\n",
    "        prediction.to_csv(\n",
    "            \"./predictions/{}.csv\".format(currency),\n",
    "            columns=[\"actual\", \"predicted\", \"error\"],\n",
    "            index=False,\n",
    "        )"
   ]
  },
  {
   "cell_type": "code",
   "execution_count": 23,
   "id": "eb8cc2b8-5199-4507-b6d4-cdfa36b6ee87",
   "metadata": {
    "tags": []
   },
   "outputs": [
    {
     "name": "stdout",
     "output_type": "stream",
     "text": [
      "Transformation Pipeline and Model Successfully Loaded\n",
      "Transformation Pipeline and Model Successfully Loaded\n",
      "Transformation Pipeline and Model Successfully Loaded\n",
      "Transformation Pipeline and Model Successfully Loaded\n",
      "Transformation Pipeline and Model Successfully Loaded\n",
      "Transformation Pipeline and Model Successfully Loaded\n",
      "Transformation Pipeline and Model Successfully Loaded\n",
      "Transformation Pipeline and Model Successfully Loaded\n"
     ]
    }
   ],
   "source": [
    "# A dictionary defining the set of currency pairs we will be pulling data for\n",
    "currency_pairs = [\n",
    "    \"EURUSD\",\n",
    "    \"GBPUSD\",\n",
    "    \"USDCAD\",\n",
    "    \"USDCHF\",\n",
    "    \"USDHKD\",\n",
    "    \"USDAUD\",\n",
    "    \"USDNZD\",\n",
    "    \"USDSGD\",\n",
    "]\n",
    "\n",
    "main(currency_pairs)"
   ]
  },
  {
   "cell_type": "code",
   "execution_count": null,
   "id": "38e9f807-41a8-440d-971b-d5ad20388aac",
   "metadata": {},
   "outputs": [],
   "source": []
  }
 ],
 "metadata": {
  "kernelspec": {
   "display_name": "Python 3 (ipykernel)",
   "language": "python",
   "name": "python3"
  },
  "language_info": {
   "codemirror_mode": {
    "name": "ipython",
    "version": 3
   },
   "file_extension": ".py",
   "mimetype": "text/x-python",
   "name": "python",
   "nbconvert_exporter": "python",
   "pygments_lexer": "ipython3",
   "version": "3.9.13"
  }
 },
 "nbformat": 4,
 "nbformat_minor": 5
}
