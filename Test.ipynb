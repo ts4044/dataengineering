{
 "cells": [
  {
   "cell_type": "markdown",
   "id": "3baa57fc-8dcb-48bf-a46b-387296fc60a4",
   "metadata": {},
   "source": [
    "[ ] 0.5: attempt to retrieve url\n",
    "[ ] 0.5: successfully makes request for url\n",
    "[ ] 0.5: attempt to parse html\n",
    "[ ] 0.5: successfully parses html\n",
    "[ ] 0.5: attempt to find each book\n",
    "[ ] 0.5: successfully finds each book\n",
    "[ ] 1.0: iterates through books\n",
    "[ ] 0.5: attempts to extract title\n",
    "[ ] 0.5: successfully extracts title\n",
    "[ ] 0.5: attempts to extract author\n",
    "[ ] 1.0: successfully extracts author\n",
    "[ ] 0.5: attempts to extract rating\n",
    "[ ] 1.0: successfully extracts rating\n",
    "[ ] 1.0: converts rating to integer\n",
    "[ ] 0.5: filters out books below threshold\n",
    "[ ] 0.5: prints result\n",
    "[ ] -1.0: minor error (multiple small syntax errors)\n",
    "[ ] -2.0: major error"
   ]
  },
  {
   "cell_type": "code",
   "execution_count": null,
   "id": "7162105f-65c1-4d18-b731-b77a588748ec",
   "metadata": {},
   "outputs": [],
   "source": [
    "import requests\n",
    "from bs4 import BeautifulSoup\n",
    "\n",
    "url, selector = \"https://cs.nyu.edu/~jversoza/dma/final2022/book-list.html\", \"div.book\"\n",
    "res = requests.get(url)\n",
    "dom = BeautifulSoup(res.text, \"html.parser\")\n",
    "data = dom.select(selector)\n",
    "for ele in data:\n",
    "    author, rating = ele.select(\"li\")\n",
    "    rating = float(rating.text)\n",
    "    if rating > 4:\n",
    "        print(f'{ele.select_one(\"h2\").text} by {author.text}: {rating} stars')"
   ]
  }
 ],
 "metadata": {
  "kernelspec": {
   "display_name": "Python 3 (ipykernel)",
   "language": "python",
   "name": "python3"
  },
  "language_info": {
   "codemirror_mode": {
    "name": "ipython",
    "version": 3
   },
   "file_extension": ".py",
   "mimetype": "text/x-python",
   "name": "python",
   "nbconvert_exporter": "python",
   "pygments_lexer": "ipython3",
   "version": "3.7.15"
  }
 },
 "nbformat": 4,
 "nbformat_minor": 5
}
