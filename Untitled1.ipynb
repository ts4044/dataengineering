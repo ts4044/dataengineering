{
 "cells": [
  {
   "cell_type": "markdown",
   "id": "1d38821b-bfdd-4b11-8dfc-53c83bca1821",
   "metadata": {},
   "source": [
    "[] 0.5: attempt to retrieve url\n",
    "[] 0.5: successfully makes request for url\n",
    "[] 0.5: attempt to parse html\n",
    "[] 0.5: successfully parses html\n",
    "[] 0.5: attempt to find each book\n",
    "[] 0.5: successfully finds each book\n",
    "[] 1.0: iterates through books\n",
    "[] 0.5: attempts to extract title\n",
    "[] 0.5: successfully extracts title\n",
    "[] 0.5: attempts to extract author\n",
    "[] 1.0: successfully extracts author\n",
    "[] 0.5: attempts to extract rating\n",
    "[] 1.0: successfully extracts rating\n",
    "[] 1.0: converts rating to integer\n",
    "[] 0.5: filters out books below threshold\n",
    "[] 0.5: prints result\n",
    "[] -1.0: minor error (multiple small syntax errors)\n",
    "[] -2.0: major error"
   ]
  },
  {
   "cell_type": "code",
   "execution_count": 1,
   "id": "a43eaa5c-0b34-49b6-837b-7c83af62219e",
   "metadata": {},
   "outputs": [
    {
     "name": "stdout",
     "output_type": "stream",
     "text": [
      "Dune by Frank Herbert : 5.0\n",
      "Frankenstein by Mary Shelley : 4.5\n"
     ]
    }
   ],
   "source": [
    "import requests\n",
    "from bs4 import BeautifulSoup\n",
    "\n",
    "res = requests.get(\"https://cs.nyu.edu/~jversoza/dma/final2022/rating-data.html\")\n",
    "dom = BeautifulSoup(res.text)\n",
    "booksData = dom.select(\"ul\")\n",
    "bookstitle = dom.select(\"h2\")\n",
    "for n in range(len(dom.select(\"p\"))):\n",
    "    title = bookstitle[n].text\n",
    "    author = booksData[n].select(\"li\")[0].text\n",
    "    rank = float(booksData[n].select(\"li\")[1].text)\n",
    "    if rank > 4:\n",
    "        print(title, \"by\", author, \":\", rank)"
   ]
  },
  {
   "cell_type": "code",
   "execution_count": null,
   "id": "8044dbe5-1402-431a-846d-375ad4d3f47b",
   "metadata": {},
   "outputs": [],
   "source": []
  }
 ],
 "metadata": {
  "kernelspec": {
   "display_name": "Python 3 (ipykernel)",
   "language": "python",
   "name": "python3"
  },
  "language_info": {
   "codemirror_mode": {
    "name": "ipython",
    "version": 3
   },
   "file_extension": ".py",
   "mimetype": "text/x-python",
   "name": "python",
   "nbconvert_exporter": "python",
   "pygments_lexer": "ipython3",
   "version": "3.7.15"
  }
 },
 "nbformat": 4,
 "nbformat_minor": 5
}
